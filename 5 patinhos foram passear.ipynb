{
 "cells": [
  {
   "cell_type": "code",
   "execution_count": 3,
   "metadata": {},
   "outputs": [
    {
     "name": "stdout",
     "output_type": "stream",
     "text": [
      "5 patinhos foram passear\n",
      "Além das montanhas para brincar\n",
      "A mamãe gritou: Quá, quá, quá, quá\n",
      "4 patinhos voltaram de lá\n",
      "\n",
      "4 patinhos foram passear\n",
      "Além das montanhas para brincar\n",
      "A mamãe gritou: Quá, quá, quá, quá\n",
      "3 patinhos voltaram de lá\n",
      "\n",
      "3 patinhos foram passear\n",
      "Além das montanhas para brincar\n",
      "A mamãe gritou: Quá, quá, quá, quá\n",
      "2 patinhos voltaram de lá\n",
      "\n",
      "2 patinhos foram passear\n",
      "Além das montanhas para brincar\n",
      "A mamãe gritou: Quá, quá, quá, quá\n",
      "1 patinhos voltaram de lá\n",
      "\n",
      "1 patinhos foram passear\n",
      "Além das montanhas para brincar\n",
      "A mamãe gritou: Quá, quá, quá, quá\n",
      "0 patinhos voltaram de lá\n",
      "\n",
      "A mamãe patinha foi procurar\n",
      "Além das montanhas, na beira do mar\n",
      "A mamãe gritou: Quá, quá, quá, quá!\n",
      "E os cinco patinhos voltaram de lá\n"
     ]
    }
   ],
   "source": [
    "patinhos = 5\n",
    "while patinhos > 0:\n",
    "    print(patinhos, \"patinhos foram passear\")\n",
    "    print(\"Além das montanhas para brincar\")\n",
    "    print(\"A mamãe gritou: Quá, quá, quá, quá\")\n",
    "    print(patinhos - 1, \"patinhos voltaram de lá\\n\")\n",
    "    patinhos -= 1\n",
    "print(\"A mamãe patinha foi procurar\")\n",
    "print(\"Além das montanhas, na beira do mar\")\n",
    "print(\"A mamãe gritou: Quá, quá, quá, quá!\")\n",
    "print(\"E os cinco patinhos voltaram de lá\")\n"
   ]
  }
 ],
 "metadata": {
  "kernelspec": {
   "display_name": "Python 3",
   "language": "python",
   "name": "python3"
  },
  "language_info": {
   "codemirror_mode": {
    "name": "ipython",
    "version": 3
   },
   "file_extension": ".py",
   "mimetype": "text/x-python",
   "name": "python",
   "nbconvert_exporter": "python",
   "pygments_lexer": "ipython3",
   "version": "3.12.3"
  }
 },
 "nbformat": 4,
 "nbformat_minor": 2
}
